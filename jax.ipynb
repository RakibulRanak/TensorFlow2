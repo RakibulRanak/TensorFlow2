{
  "nbformat": 4,
  "nbformat_minor": 0,
  "metadata": {
    "colab": {
      "name": "jax.ipynb",
      "provenance": [],
      "authorship_tag": "ABX9TyOYdS4nexFssHMoS1G29yM3",
      "include_colab_link": true
    },
    "kernelspec": {
      "name": "python3",
      "display_name": "Python 3"
    },
    "accelerator": "GPU"
  },
  "cells": [
    {
      "cell_type": "markdown",
      "metadata": {
        "id": "view-in-github",
        "colab_type": "text"
      },
      "source": [
        "<a href=\"https://colab.research.google.com/github/raqueeb/TensorFlow2/blob/master/jax.ipynb\" target=\"_parent\"><img src=\"https://colab.research.google.com/assets/colab-badge.svg\" alt=\"Open In Colab\"/></a>"
      ]
    },
    {
      "cell_type": "code",
      "metadata": {
        "id": "Ea4uD9__QFkn"
      },
      "source": [
        "import random\r\n",
        "import itertools\r\n",
        "\r\n",
        "import jax\r\n",
        "import jax.numpy as np\r\n",
        "# Current convention is to import original numpy as \"onp\"\r\n",
        "import numpy as onp"
      ],
      "execution_count": null,
      "outputs": []
    },
    {
      "cell_type": "code",
      "metadata": {
        "id": "plzFK-tzQQlr"
      },
      "source": [
        "# Sigmoid nonlinearity\r\n",
        "def sigmoid(x):\r\n",
        "    return 1 / (1 + np.exp(-x))\r\n",
        "\r\n",
        "# Computes our network's output\r\n",
        "def net(params, x):\r\n",
        "    w1, b1, w2, b2 = params\r\n",
        "    hidden = np.tanh(np.dot(w1, x) + b1)\r\n",
        "    return sigmoid(np.dot(w2, hidden) + b2)\r\n",
        "\r\n",
        "# Cross-entropy loss\r\n",
        "def loss(params, x, y):\r\n",
        "    out = net(params, x)\r\n",
        "    cross_entropy = -y * np.log(out) - (1 - y)*np.log(1 - out)\r\n",
        "    return cross_entropy\r\n",
        "\r\n",
        "# Utility function for testing whether the net produces the correct\r\n",
        "# output for all possible inputs\r\n",
        "def test_all_inputs(inputs, params):\r\n",
        "    predictions = [int(net(params, inp) > 0.5) for inp in inputs]\r\n",
        "    for inp, out in zip(inputs, predictions):\r\n",
        "        print(inp, '->', out)\r\n",
        "    return (predictions == [onp.bitwise_xor(*inp) for inp in inputs])"
      ],
      "execution_count": null,
      "outputs": []
    },
    {
      "cell_type": "code",
      "metadata": {
        "id": "bQwLurZiQXL0"
      },
      "source": [
        "def initial_params():\r\n",
        "    return [\r\n",
        "        onp.random.randn(3, 2),  # w1\r\n",
        "        onp.random.randn(3),  # b1\r\n",
        "        onp.random.randn(3),  # w2\r\n",
        "        onp.random.randn(),  #b2\r\n",
        "    ]"
      ],
      "execution_count": null,
      "outputs": []
    },
    {
      "cell_type": "code",
      "metadata": {
        "colab": {
          "base_uri": "https://localhost:8080/"
        },
        "id": "74AYe7w2QbA9",
        "outputId": "6cc776cb-cff5-4aac-ce61-8daa2d1224f9"
      },
      "source": [
        "loss_grad = jax.grad(loss)\r\n",
        "\r\n",
        "# Stochastic gradient descent learning rate\r\n",
        "learning_rate = 1.\r\n",
        "# All possible inputs\r\n",
        "inputs = np.array([[0, 0], [0, 1], [1, 0], [1, 1]])\r\n",
        "\r\n",
        "# Initialize parameters randomly\r\n",
        "params = initial_params()\r\n",
        "\r\n",
        "for n in itertools.count():\r\n",
        "    # Grab a single random input\r\n",
        "    x = inputs[onp.random.choice(inputs.shape[0])]\r\n",
        "    # Compute the target output\r\n",
        "    y = onp.bitwise_xor(*x)\r\n",
        "    # Get the gradient of the loss for this input/output pair\r\n",
        "    grads = loss_grad(params, x, y)\r\n",
        "    # Update parameters via gradient descent\r\n",
        "    params = [param - learning_rate * grad\r\n",
        "              for param, grad in zip(params, grads)]\r\n",
        "    # Every 100 iterations, check whether we've solved XOR\r\n",
        "    if not n % 100:\r\n",
        "        print('Iteration {}'.format(n))\r\n",
        "        if test_all_inputs(inputs, params):\r\n",
        "            break"
      ],
      "execution_count": null,
      "outputs": [
        {
          "output_type": "stream",
          "text": [
            "Iteration 0\n",
            "[0 0] -> 0\n",
            "[0 1] -> 0\n",
            "[1 0] -> 0\n",
            "[1 1] -> 0\n",
            "Iteration 100\n",
            "[0 0] -> 0\n",
            "[0 1] -> 1\n",
            "[1 0] -> 1\n",
            "[1 1] -> 1\n",
            "Iteration 200\n",
            "[0 0] -> 0\n",
            "[0 1] -> 1\n",
            "[1 0] -> 1\n",
            "[1 1] -> 0\n"
          ],
          "name": "stdout"
        }
      ]
    },
    {
      "cell_type": "code",
      "metadata": {
        "id": "Smn6o3apQf5u"
      },
      "source": [
        "import jax.numpy as jnp\r\n",
        "from jax import grad, jit, vmap\r\n",
        "from jax import random"
      ],
      "execution_count": 7,
      "outputs": []
    },
    {
      "cell_type": "code",
      "metadata": {
        "colab": {
          "base_uri": "https://localhost:8080/"
        },
        "id": "eUGug3oiX7Q8",
        "outputId": "027506c5-36a2-4d95-d435-22a834af51f4"
      },
      "source": [
        "key = random.PRNGKey(0)\r\n",
        "x = random.normal(key, (10,))\r\n",
        "print(x)\r\n"
      ],
      "execution_count": 8,
      "outputs": [
        {
          "output_type": "stream",
          "text": [
            "[-0.3721109   0.26423115 -0.18252768 -0.7368197  -0.44030377 -0.1521442\n",
            " -0.67135346 -0.5908641   0.73168886  0.5673026 ]\n"
          ],
          "name": "stdout"
        }
      ]
    },
    {
      "cell_type": "code",
      "metadata": {
        "colab": {
          "base_uri": "https://localhost:8080/"
        },
        "id": "Ra-UbQlGX9S6",
        "outputId": "e426e152-7bf2-4f27-cc01-04cdf59d2a02"
      },
      "source": [
        "size = 3000\r\n",
        "x = random.normal(key, (size, size), dtype=jnp.float32)\r\n",
        "%timeit jnp.dot(x, x.T).block_until_ready()  # runs on the GPU"
      ],
      "execution_count": 7,
      "outputs": [
        {
          "output_type": "stream",
          "text": [
            "1 loop, best of 3: 931 ms per loop\n"
          ],
          "name": "stdout"
        }
      ]
    },
    {
      "cell_type": "code",
      "metadata": {
        "colab": {
          "base_uri": "https://localhost:8080/"
        },
        "id": "R0wdkJr7YKMd",
        "outputId": "abc62879-4ff8-42fb-cc65-67d92b99dea1"
      },
      "source": [
        "import numpy as np\r\n",
        "x = np.random.normal(size=(size, size)).astype(np.float32)\r\n",
        "%timeit jnp.dot(x, x.T).block_until_ready()"
      ],
      "execution_count": 8,
      "outputs": [
        {
          "output_type": "stream",
          "text": [
            "1 loop, best of 3: 938 ms per loop\n"
          ],
          "name": "stdout"
        }
      ]
    },
    {
      "cell_type": "code",
      "metadata": {
        "colab": {
          "base_uri": "https://localhost:8080/"
        },
        "id": "nO2oQqSvYRz4",
        "outputId": "b09af564-0389-4ad0-d6b9-e5ea6da86e3a"
      },
      "source": [
        "from jax import device_put\r\n",
        "\r\n",
        "x = np.random.normal(size=(size, size)).astype(np.float32)\r\n",
        "x = device_put(x)\r\n",
        "%timeit jnp.dot(x, x.T).block_until_ready()"
      ],
      "execution_count": 9,
      "outputs": [
        {
          "output_type": "stream",
          "text": [
            "1 loop, best of 3: 903 ms per loop\n"
          ],
          "name": "stdout"
        }
      ]
    },
    {
      "cell_type": "code",
      "metadata": {
        "colab": {
          "base_uri": "https://localhost:8080/"
        },
        "id": "5k9sx9_IYZub",
        "outputId": "b1dd7e02-177c-4fe6-9dc4-8619efd0925f"
      },
      "source": [
        "x = np.random.normal(size=(size, size)).astype(np.float32)\r\n",
        "%timeit np.dot(x, x.T)"
      ],
      "execution_count": 10,
      "outputs": [
        {
          "output_type": "stream",
          "text": [
            "1 loop, best of 3: 452 ms per loop\n"
          ],
          "name": "stdout"
        }
      ]
    },
    {
      "cell_type": "code",
      "metadata": {
        "colab": {
          "base_uri": "https://localhost:8080/"
        },
        "id": "C8REjj8eYeRD",
        "outputId": "03d82285-9d14-495c-bfbf-5b8d3603c380"
      },
      "source": [
        "size = 3000\r\n",
        "x = random.normal(key, (size, size), dtype=jnp.float32)\r\n",
        "%timeit jnp.dot(x, x.T).block_until_ready()  # runs on the GPU"
      ],
      "execution_count": 9,
      "outputs": [
        {
          "output_type": "stream",
          "text": [
            "The slowest run took 227.61 times longer than the fastest. This could mean that an intermediate result is being cached.\n",
            "1 loop, best of 3: 10.1 ms per loop\n"
          ],
          "name": "stdout"
        }
      ]
    },
    {
      "cell_type": "code",
      "metadata": {
        "colab": {
          "base_uri": "https://localhost:8080/"
        },
        "id": "OAAFywxgYo4-",
        "outputId": "560293e7-a3ed-4c39-d0fe-6b8c57012fc5"
      },
      "source": [
        "import numpy as np\r\n",
        "x = np.random.normal(size=(size, size)).astype(np.float32)\r\n",
        "%timeit jnp.dot(x, x.T).block_until_ready()"
      ],
      "execution_count": 10,
      "outputs": [
        {
          "output_type": "stream",
          "text": [
            "10 loops, best of 3: 34.9 ms per loop\n"
          ],
          "name": "stdout"
        }
      ]
    },
    {
      "cell_type": "code",
      "metadata": {
        "colab": {
          "base_uri": "https://localhost:8080/"
        },
        "id": "1l4tV68nY2wJ",
        "outputId": "8dd24500-56de-43ab-a170-8525b447cbf5"
      },
      "source": [
        "from jax import device_put\r\n",
        "\r\n",
        "x = np.random.normal(size=(size, size)).astype(np.float32)\r\n",
        "x = device_put(x)\r\n",
        "%timeit jnp.dot(x, x.T).block_until_ready()"
      ],
      "execution_count": 11,
      "outputs": [
        {
          "output_type": "stream",
          "text": [
            "10 loops, best of 3: 20.3 ms per loop\n"
          ],
          "name": "stdout"
        }
      ]
    },
    {
      "cell_type": "code",
      "metadata": {
        "colab": {
          "base_uri": "https://localhost:8080/"
        },
        "id": "vky4LhZOY8Jo",
        "outputId": "ba11a9cc-82b6-4a0e-ab1b-11944dd31a19"
      },
      "source": [
        "x = np.random.normal(size=(size, size)).astype(np.float32)\r\n",
        "%timeit np.dot(x, x.T)"
      ],
      "execution_count": 12,
      "outputs": [
        {
          "output_type": "stream",
          "text": [
            "1 loop, best of 3: 324 ms per loop\n"
          ],
          "name": "stdout"
        }
      ]
    },
    {
      "cell_type": "code",
      "metadata": {
        "colab": {
          "base_uri": "https://localhost:8080/"
        },
        "id": "hxk0Xg3IZACW",
        "outputId": "a181e205-71df-460f-ebc5-6dd60275912e"
      },
      "source": [
        "def selu(x, alpha=1.67, lmbda=1.05):\r\n",
        "  return lmbda * jnp.where(x > 0, x, alpha * jnp.exp(x) - alpha)\r\n",
        "\r\n",
        "x = random.normal(key, (1000000,))\r\n",
        "%timeit selu(x).block_until_ready()"
      ],
      "execution_count": 13,
      "outputs": [
        {
          "output_type": "stream",
          "text": [
            "The slowest run took 159.08 times longer than the fastest. This could mean that an intermediate result is being cached.\n",
            "1 loop, best of 3: 2.36 ms per loop\n"
          ],
          "name": "stdout"
        }
      ]
    },
    {
      "cell_type": "code",
      "metadata": {
        "colab": {
          "base_uri": "https://localhost:8080/"
        },
        "id": "wzO4yKtmZMO1",
        "outputId": "56df94c1-3ec4-4ed9-b205-93fa1a9e2eca"
      },
      "source": [
        "selu_jit = jit(selu)\r\n",
        "%timeit selu_jit(x).block_until_ready()"
      ],
      "execution_count": 14,
      "outputs": [
        {
          "output_type": "stream",
          "text": [
            "The slowest run took 433.81 times longer than the fastest. This could mean that an intermediate result is being cached.\n",
            "1000 loops, best of 3: 270 µs per loop\n"
          ],
          "name": "stdout"
        }
      ]
    },
    {
      "cell_type": "code",
      "metadata": {
        "colab": {
          "base_uri": "https://localhost:8080/"
        },
        "id": "ydt0Ryo6ZeNA",
        "outputId": "7ef2b5c2-63b9-402e-94a6-37016800b68d"
      },
      "source": [
        "x"
      ],
      "execution_count": 15,
      "outputs": [
        {
          "output_type": "execute_result",
          "data": {
            "text/plain": [
              "DeviceArray([ 1.99376   ,  0.20781846, -0.34406224, ...,  0.03467206,\n",
              "              0.7103182 ,  0.1965587 ], dtype=float32)"
            ]
          },
          "metadata": {
            "tags": []
          },
          "execution_count": 15
        }
      ]
    },
    {
      "cell_type": "code",
      "metadata": {
        "id": "6ZAVEg5vZTYi"
      },
      "source": [
        ""
      ],
      "execution_count": null,
      "outputs": []
    }
  ]
}